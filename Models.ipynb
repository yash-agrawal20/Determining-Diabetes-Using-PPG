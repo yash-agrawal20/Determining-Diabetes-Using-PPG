{
 "cells": [
  {
   "cell_type": "code",
   "execution_count": 102,
   "metadata": {},
   "outputs": [],
   "source": [
    "import pandas as pd\n",
    "from sklearn.metrics import accuracy_score\n",
    "import numpy as np"
   ]
  },
  {
   "cell_type": "code",
   "execution_count": 44,
   "metadata": {},
   "outputs": [],
   "source": [
    "df1 = pd.read_csv(\"FinalFeatures_train_updated.csv\")\n",
    "Xtrain = df1.iloc[:, 1:7]\n",
    "Ytrain = df1.iloc[:,-1]\n",
    "\n",
    "df2 = pd.read_csv(\"Finaltest_updated.csv\")\n",
    "Xtest = df2.iloc[:,1:7]\n",
    "Ytest = df2.iloc[:, -1]"
   ]
  },
  {
   "cell_type": "code",
   "execution_count": 45,
   "metadata": {},
   "outputs": [
    {
     "data": {
      "text/plain": [
       "0.5"
      ]
     },
     "execution_count": 45,
     "metadata": {},
     "output_type": "execute_result"
    }
   ],
   "source": [
    "from sklearn.discriminant_analysis import LinearDiscriminantAnalysis as LDA\n",
    "#LDA works by finding a linear combination of features that maximizes the separation between multiple classes. \n",
    "#It does this by computing the mean and covariance matrix for each class and using these values to construct a linear decision boundary\n",
    "\n",
    "#LINEAR DISCRIMINANT ANALYSIS\n",
    "lda = LDA()\n",
    "lda.fit(Xtrain, Ytrain)\n",
    "res = lda.predict(Xtest).tolist()\n",
    "accuracy_score(Ytest, res)"
   ]
  },
  {
   "cell_type": "code",
   "execution_count": 46,
   "metadata": {},
   "outputs": [
    {
     "data": {
      "text/plain": [
       "0.65"
      ]
     },
     "execution_count": 46,
     "metadata": {},
     "output_type": "execute_result"
    }
   ],
   "source": [
    "#Logistic Regression estimates the probability that an observation belongs to one of the two classes using the logistic function, \n",
    "#which maps any real value into another value within a range of 0 and 1\n",
    "\n",
    "#LOGISTIC REGRESSION\n",
    "from sklearn.linear_model import LogisticRegression\n",
    "logreg = LogisticRegression(random_state=0)\n",
    "logreg.fit(Xtest, Ytest)\n",
    "reslr = logreg.predict(Xtrain)\n",
    "logreg.score(Xtrain, Ytrain)"
   ]
  },
  {
   "cell_type": "code",
   "execution_count": 47,
   "metadata": {},
   "outputs": [
    {
     "data": {
      "text/plain": [
       "0.625"
      ]
     },
     "execution_count": 47,
     "metadata": {},
     "output_type": "execute_result"
    }
   ],
   "source": [
    "#SVM works by finding a hyperplane that maximally separates the different classes in the training data. This is done by finding the hyperplane that has the largest margin, \n",
    "#which is defined as the distance between the hyperplane and the closest data points from each class. Once the hyperplane is determined, new data can be classified by determining \n",
    "#on which side of the hyperplane it falls\n",
    "\n",
    "from sklearn import svm\n",
    "#SUPPORT VECTOR MACHINE\n",
    "SVM = svm.SVC()\n",
    "SVM.fit(Xtrain, Ytrain)\n",
    "ressvm = SVM.predict(Xtest)\n",
    "accuracy_score(Ytest, ressvm)"
   ]
  },
  {
   "cell_type": "code",
   "execution_count": 48,
   "metadata": {},
   "outputs": [
    {
     "data": {
      "text/plain": [
       "0.5"
      ]
     },
     "execution_count": 48,
     "metadata": {},
     "output_type": "execute_result"
    }
   ],
   "source": [
    "#Decision trees work by recursively splitting the training data into subsets based on the values of the features. At each internal node of the tree, a test is performed on one of the \n",
    "#features and the data is split into subsets based on the outcome of this test. This process continues until all data in a subset belongs to the same class or further splitting no longer\n",
    "#improves the predictions\n",
    "\n",
    "from sklearn import tree\n",
    "#DECISION TREE\n",
    "trees= tree.DecisionTreeClassifier()\n",
    "trees.fit(Xtrain, Ytrain)\n",
    "resdt = trees.predict(Xtest)\n",
    "accuracy_score(Ytest, resdt)"
   ]
  },
  {
   "cell_type": "code",
   "execution_count": 49,
   "metadata": {},
   "outputs": [],
   "source": [
    "from sklearn.ensemble import BaggingClassifier"
   ]
  },
  {
   "cell_type": "code",
   "execution_count": 66,
   "metadata": {},
   "outputs": [
    {
     "name": "stderr",
     "output_type": "stream",
     "text": [
      "c:\\Users\\yash2\\AppData\\Local\\Programs\\Python\\Python39\\lib\\site-packages\\sklearn\\ensemble\\_base.py:166: FutureWarning: `base_estimator` was renamed to `estimator` in version 1.2 and will be removed in 1.4.\n",
      "  warnings.warn(\n"
     ]
    },
    {
     "data": {
      "text/plain": [
       "0.5"
      ]
     },
     "execution_count": 66,
     "metadata": {},
     "output_type": "execute_result"
    }
   ],
   "source": [
    "# Bagging Classifier LDA\n",
    "bagging_lda = BaggingClassifier(base_estimator=LDA(), n_estimators=13)\n",
    "bagging_lda.fit(Xtrain, Ytrain)\n",
    "res_blda = bagging_lda.predict(Xtest)\n",
    "accuracy_score(Ytest, res_blda)"
   ]
  },
  {
   "cell_type": "code",
   "execution_count": 70,
   "metadata": {},
   "outputs": [
    {
     "name": "stderr",
     "output_type": "stream",
     "text": [
      "c:\\Users\\yash2\\AppData\\Local\\Programs\\Python\\Python39\\lib\\site-packages\\sklearn\\ensemble\\_base.py:166: FutureWarning: `base_estimator` was renamed to `estimator` in version 1.2 and will be removed in 1.4.\n",
      "  warnings.warn(\n"
     ]
    },
    {
     "data": {
      "text/plain": [
       "0.6875"
      ]
     },
     "execution_count": 70,
     "metadata": {},
     "output_type": "execute_result"
    }
   ],
   "source": [
    "# Bagging Classifier Logistic Regression\n",
    "bagging_logreg = BaggingClassifier(base_estimator=LogisticRegression(), n_estimators=17)\n",
    "bagging_logreg.fit(Xtrain, Ytrain)\n",
    "res_blogreg = bagging_logreg.predict(Xtest)\n",
    "accuracy_score(Ytest, res_blogreg)"
   ]
  },
  {
   "cell_type": "code",
   "execution_count": 78,
   "metadata": {},
   "outputs": [
    {
     "name": "stderr",
     "output_type": "stream",
     "text": [
      "c:\\Users\\yash2\\AppData\\Local\\Programs\\Python\\Python39\\lib\\site-packages\\sklearn\\ensemble\\_base.py:166: FutureWarning: `base_estimator` was renamed to `estimator` in version 1.2 and will be removed in 1.4.\n",
      "  warnings.warn(\n"
     ]
    },
    {
     "data": {
      "text/plain": [
       "0.6875"
      ]
     },
     "execution_count": 78,
     "metadata": {},
     "output_type": "execute_result"
    }
   ],
   "source": [
    "# Bagging Classifier SVM\n",
    "bagging_svm = BaggingClassifier(base_estimator=svm.SVC(), n_estimators=20)\n",
    "bagging_svm.fit(Xtrain, Ytrain)\n",
    "res_bsvm = bagging_svm.predict(Xtest)\n",
    "accuracy_score(Ytest, res_bsvm)"
   ]
  },
  {
   "cell_type": "code",
   "execution_count": 97,
   "metadata": {},
   "outputs": [
    {
     "name": "stderr",
     "output_type": "stream",
     "text": [
      "c:\\Users\\yash2\\AppData\\Local\\Programs\\Python\\Python39\\lib\\site-packages\\sklearn\\ensemble\\_base.py:166: FutureWarning: `base_estimator` was renamed to `estimator` in version 1.2 and will be removed in 1.4.\n",
      "  warnings.warn(\n"
     ]
    },
    {
     "data": {
      "text/plain": [
       "0.5625"
      ]
     },
     "execution_count": 97,
     "metadata": {},
     "output_type": "execute_result"
    }
   ],
   "source": [
    "# Bagging Classifier Decision Tree\n",
    "bagging_dtree = BaggingClassifier(base_estimator=tree.DecisionTreeClassifier(), n_estimators=27)\n",
    "bagging_dtree.fit(Xtrain, Ytrain)\n",
    "res_dtree = bagging_dtree.predict(Xtest)\n",
    "accuracy_score(Ytest, res_dtree)"
   ]
  },
  {
   "cell_type": "code",
   "execution_count": 98,
   "metadata": {},
   "outputs": [],
   "source": [
    "from sklearn.ensemble import AdaBoostClassifier"
   ]
  },
  {
   "cell_type": "code",
   "execution_count": 115,
   "metadata": {},
   "outputs": [],
   "source": [
    "# Boosting Classifier LDA\n",
    "# boosting_lda = AdaBoostClassifier(base_estimator=LDA(), n_estimators=5,)\n",
    "# boosting_lda.fit(Xtrain, Ytrain)\n",
    "# res_bolda = boosting_lda.predict(Xtest)\n",
    "# accuracy_score(Ytest, res_bolda)"
   ]
  },
  {
   "cell_type": "code",
   "execution_count": 123,
   "metadata": {},
   "outputs": [
    {
     "name": "stderr",
     "output_type": "stream",
     "text": [
      "c:\\Users\\yash2\\AppData\\Local\\Programs\\Python\\Python39\\lib\\site-packages\\sklearn\\ensemble\\_base.py:166: FutureWarning: `base_estimator` was renamed to `estimator` in version 1.2 and will be removed in 1.4.\n",
      "  warnings.warn(\n"
     ]
    },
    {
     "data": {
      "text/plain": [
       "0.6875"
      ]
     },
     "execution_count": 123,
     "metadata": {},
     "output_type": "execute_result"
    }
   ],
   "source": [
    "# Boosting Classifier Logistic Regression\n",
    "boosting_logreg = AdaBoostClassifier(base_estimator=LogisticRegression(), n_estimators=33)\n",
    "boosting_logreg.fit(Xtrain, Ytrain)\n",
    "res_bologreg = boosting_logreg.predict(Xtest)\n",
    "accuracy_score(Ytest, res_bologreg)"
   ]
  },
  {
   "cell_type": "code",
   "execution_count": 126,
   "metadata": {},
   "outputs": [],
   "source": [
    "# Boosting Classifier SVM\n",
    "# boosting_svm = AdaBoostClassifier(base_estimator=svm.SVC(), n_estimators=10)\n",
    "# boosting_svm.fit(Xtrain, Ytrain)\n",
    "# res_bosvm = boosting_svm.predict(Xtest)\n",
    "# accuracy_score(Ytest, res_bosvm)"
   ]
  },
  {
   "cell_type": "code",
   "execution_count": 111,
   "metadata": {},
   "outputs": [
    {
     "name": "stderr",
     "output_type": "stream",
     "text": [
      "c:\\Users\\yash2\\AppData\\Local\\Programs\\Python\\Python39\\lib\\site-packages\\sklearn\\ensemble\\_base.py:166: FutureWarning: `base_estimator` was renamed to `estimator` in version 1.2 and will be removed in 1.4.\n",
      "  warnings.warn(\n"
     ]
    },
    {
     "data": {
      "text/plain": [
       "0.625"
      ]
     },
     "execution_count": 111,
     "metadata": {},
     "output_type": "execute_result"
    }
   ],
   "source": [
    "# Boosting Classifier Decision Tree\n",
    "boosting_dtree = AdaBoostClassifier(base_estimator=tree.DecisionTreeClassifier(max_depth=1), n_estimators=33)\n",
    "boosting_dtree.fit(Xtrain, Ytrain)\n",
    "res_bodtree = boosting_dtree.predict(Xtest)\n",
    "accuracy_score(Ytest, res_bodtree)"
   ]
  }
 ],
 "metadata": {
  "kernelspec": {
   "display_name": "Python 3",
   "language": "python",
   "name": "python3"
  },
  "language_info": {
   "codemirror_mode": {
    "name": "ipython",
    "version": 3
   },
   "file_extension": ".py",
   "mimetype": "text/x-python",
   "name": "python",
   "nbconvert_exporter": "python",
   "pygments_lexer": "ipython3",
   "version": "3.9.6"
  },
  "orig_nbformat": 4
 },
 "nbformat": 4,
 "nbformat_minor": 2
}
